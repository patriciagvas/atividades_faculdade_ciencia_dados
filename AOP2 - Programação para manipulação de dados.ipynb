{
 "cells": [
  {
   "cell_type": "markdown",
   "metadata": {
    "id": "G90zxY79qIXe"
   },
   "source": [
    "<html>\n",
    "  <body>\n",
    "    <header></header>\n",
    "        <CENTER>\n",
    "          <img src=\"https://uvv.br/wp-content/themes/core/dist/images/Logo@2x.png\" alt=\"UVV-LOGO\" style = width=\"100px\"; height=\"100px\">\n",
    "        </CENTER>\n",
    "        <CENTER><b>Programação para manipulação de dados</b></CENTER>\n",
    "        <CENTER><b>AOP2 - ATIVIDADE ONLINE PONTUADA 2</b></CENTER><br/>"
   ]
  },
  {
   "cell_type": "markdown",
   "metadata": {
    "id": "qDD2bNlhyUjX"
   },
   "source": [
    "**NOME COMPLETO: ???**"
   ]
  },
  {
   "cell_type": "markdown",
   "metadata": {
    "id": "yZfJjeQgqTo_"
   },
   "source": [
    "#ATIVIDADE ONLINE PONTUADA – AOP2(Discursiva)\n",
    "\n",
    "Usar as **Técnicas de programação Python:**\n",
    "\n",
    "### $\\Longrightarrow$**Vetorização**\n",
    "\n",
    "### $\\Longrightarrow$**Indexação Booleana**\n",
    "\n",
    "### $\\Longrightarrow$**Indexação Sofisticada**\n",
    "\n",
    "<FONT FACE=Arial COLOR=\"red\">**HÁ EXEMPLOS PRONTOS NOS NOTEBOOKS DAS LIÇÕES!!!!!**"
   ]
  },
  {
   "cell_type": "markdown",
   "metadata": {
    "id": "jCVMq4d1XQZM"
   },
   "source": [
    "**Link do Arquivo dataset.npy**: [Clique Aqui!](https://drive.google.com/file/d/1gyvmjLp09MwTiLuYmQ3jrM_Ok3ooqhR8/view?usp=sharing)"
   ]
  },
  {
   "cell_type": "markdown",
   "metadata": {
    "id": "ksA3JeRiIxtT"
   },
   "source": [
    "Link do colab: [Link](https://colab.research.google.com/drive/1DhAlWV4u7xjUGnODGN3mjyy83BJWk8Hy?usp=sharing)"
   ]
  },
  {
   "cell_type": "markdown",
   "metadata": {
    "id": "XAT4xbaZFc7a"
   },
   "source": [
    "# FUNÇÕES DESENVOLVIDAS PARA AGUÇAR SUA CURIOSIDADE NOS COMANDOS PYTHON :-)"
   ]
  },
  {
   "cell_type": "code",
   "execution_count": 2,
   "metadata": {},
   "outputs": [
    {
     "name": "stdout",
     "output_type": "stream",
     "text": [
      "Defaulting to user installation because normal site-packages is not writeable\n",
      "Requirement already satisfied: pandoc in c:\\users\\usuário\\appdata\\roaming\\python\\python312\\site-packages (2.4)\n",
      "Requirement already satisfied: plumbum in c:\\users\\usuário\\appdata\\roaming\\python\\python312\\site-packages (from pandoc) (1.9.0)\n",
      "Requirement already satisfied: ply in c:\\programdata\\anaconda3\\lib\\site-packages (from pandoc) (3.11)\n",
      "Requirement already satisfied: pywin32 in c:\\users\\usuário\\appdata\\roaming\\python\\python312\\site-packages (from plumbum->pandoc) (308)\n",
      "Note: you may need to restart the kernel to use updated packages.\n"
     ]
    }
   ],
   "source": [
    "pip install pandoc"
   ]
  },
  {
   "cell_type": "code",
   "execution_count": 3,
   "metadata": {
    "id": "cOzHN5SUFdJt"
   },
   "outputs": [],
   "source": [
    "# Bibliotecas Gerais\n",
    "import pandas as pd\n",
    "import numpy as np\n",
    "import matplotlib.pyplot as plt\n",
    "import seaborn as sns\n",
    "from scipy import stats"
   ]
  },
  {
   "cell_type": "code",
   "execution_count": 4,
   "metadata": {
    "id": "XAwrBY-IGcn-"
   },
   "outputs": [],
   "source": [
    "def statistic(_dataset):\n",
    "  \"\"\"\n",
    "  DOCSTRING:\n",
    "  Describe (without count) + Insert range: max - min\n",
    "  \"\"\"\n",
    "  _describe = _dataset.describe()\n",
    "  _describe = _describe.drop('count')\n",
    "  _size = _describe.shape\n",
    "  _describe.loc['range'] = _describe['max'] - _describe['min']\n",
    "  _describe.loc['mode'] = stats.mode(_dataset, keepdims = False)[0]\n",
    "  _describe = np.around(_describe.sort_values(), 2)\n",
    "  return _describe"
   ]
  },
  {
   "cell_type": "code",
   "execution_count": 5,
   "metadata": {
    "id": "cJLitqsHGii4"
   },
   "outputs": [
    {
     "name": "stderr",
     "output_type": "stream",
     "text": [
      "<>:12: SyntaxWarning: invalid escape sequence '\\m'\n",
      "<>:15: SyntaxWarning: invalid escape sequence '\\m'\n",
      "<>:18: SyntaxWarning: invalid escape sequence '\\m'\n",
      "<>:12: SyntaxWarning: invalid escape sequence '\\m'\n",
      "<>:15: SyntaxWarning: invalid escape sequence '\\m'\n",
      "<>:18: SyntaxWarning: invalid escape sequence '\\m'\n",
      "C:\\Users\\Usuário\\AppData\\Local\\Temp\\ipykernel_13204\\3118510990.py:12: SyntaxWarning: invalid escape sequence '\\m'\n",
      "  mean_mu = 'MÉDIA:  $\\\\overline{\\mu}$ = '\n",
      "C:\\Users\\Usuário\\AppData\\Local\\Temp\\ipykernel_13204\\3118510990.py:15: SyntaxWarning: invalid escape sequence '\\m'\n",
      "  median_mu = 'MEDIANA: $\\\\tilde{\\mu}$ = '\n",
      "C:\\Users\\Usuário\\AppData\\Local\\Temp\\ipykernel_13204\\3118510990.py:18: SyntaxWarning: invalid escape sequence '\\m'\n",
      "  mode_mu = 'MODA: $\\\\hat{\\mu}$ = '\n"
     ]
    }
   ],
   "source": [
    "def PlotarStatistic(dataset, yLabel = None):\n",
    "  '''\n",
    "  DOCSTRING: Modularização (Namespace) Python\n",
    "  Melhoria do comando: Describe\n",
    "  Funções desenvolvidas pelo Professor da UVV:\n",
    "  Alessandro Bertolani Oliveira\n",
    "  '''\n",
    "\n",
    "  _describe = statistic(dataset)\n",
    "\n",
    "  # Símbolos da estatística estimada da população\n",
    "  mean_mu = 'MÉDIA:  $\\\\overline{\\mu}$ = '\n",
    "  mean_mu += f'{_describe[\"mean\"]: .2f}'\n",
    "\n",
    "  median_mu = 'MEDIANA: $\\\\tilde{\\mu}$ = '\n",
    "  median_mu += f'{_describe[\"50%\"]: .2f}'\n",
    "\n",
    "  mode_mu = 'MODA: $\\\\hat{\\mu}$ = '\n",
    "  mode_mu += f'{_describe[\"mode\"]: .2f}'\n",
    "\n",
    "  enter = '\\n'\n",
    "\n",
    "  label = mean_mu + enter + median_mu + enter + mode_mu\n",
    "  dataset.agg(statistic).plot(figsize = [15, 6], label='MEDIDAS DE RESUMO: ')\n",
    "  plt.plot(list(_describe.index).index('mean'), _describe[\"mean\"], 'D', label=mean_mu)\n",
    "  plt.plot(list(_describe.index).index('50%'), _describe[\"50%\"], 'D', label=median_mu)\n",
    "  plt.plot(list(_describe.index).index('mode'), _describe[\"mode\"], 'D', label=mode_mu)\n",
    "\n",
    "  plt.title(f'ESTATÍSTICA DESCRITIVA DO DATASET')\n",
    "  plt.legend()\n",
    "  plt.ylabel(yLabel)\n",
    "  plt.show()\n",
    "  print('ESTATÍSTICA DESCRITIVA DO DATASET:')\n",
    "  print(_describe)"
   ]
  },
  {
   "cell_type": "markdown",
   "metadata": {
    "id": "fOrzULiQkEGJ"
   },
   "source": [
    "# Carregar o Dataset (arquivo.npy)"
   ]
  },
  {
   "cell_type": "code",
   "execution_count": 6,
   "metadata": {
    "id": "ykVY42T1OhX6"
   },
   "outputs": [],
   "source": [
    "#from google.colab import files\n",
    "import pandas as pd\n",
    "import numpy as np"
   ]
  },
  {
   "cell_type": "code",
   "execution_count": 7,
   "metadata": {
    "colab": {
     "base_uri": "https://localhost:8080/"
    },
    "id": "etNmpaCvUMVR",
    "outputId": "4d224706-e2cf-4343-d5ed-84d6ef5190ae"
   },
   "outputs": [
    {
     "data": {
      "text/plain": [
       "array([[3159.        , 3033.7393458 ],\n",
       "       [2530.        ,   25.        ],\n",
       "       [9301.        , 1608.58573348],\n",
       "       ...,\n",
       "       [2806.        , 1796.70178143],\n",
       "       [5319.        , 5170.1692601 ],\n",
       "       [2575.        , 4841.59095062]])"
      ]
     },
     "execution_count": 7,
     "metadata": {},
     "output_type": "execute_result"
    }
   ],
   "source": [
    "dataset = np.load('dataset.npy')\n",
    "dataset"
   ]
  },
  {
   "cell_type": "code",
   "execution_count": 8,
   "metadata": {
    "colab": {
     "base_uri": "https://localhost:8080/"
    },
    "id": "fdBgj2v3zxhV",
    "outputId": "f73c48b3-94df-4b5c-be54-881343adf031"
   },
   "outputs": [
    {
     "data": {
      "text/plain": [
       "numpy.ndarray"
      ]
     },
     "execution_count": 8,
     "metadata": {},
     "output_type": "execute_result"
    }
   ],
   "source": [
    "type(dataset)"
   ]
  },
  {
   "cell_type": "code",
   "execution_count": 9,
   "metadata": {
    "colab": {
     "base_uri": "https://localhost:8080/",
     "height": 411
    },
    "id": "PDmzCWFTXpkk",
    "outputId": "1ccf8e33-f04c-4074-db4a-a67d5ba70b12"
   },
   "outputs": [
    {
     "data": {
      "text/html": [
       "<div>\n",
       "<style scoped>\n",
       "    .dataframe tbody tr th:only-of-type {\n",
       "        vertical-align: middle;\n",
       "    }\n",
       "\n",
       "    .dataframe tbody tr th {\n",
       "        vertical-align: top;\n",
       "    }\n",
       "\n",
       "    .dataframe thead th {\n",
       "        text-align: right;\n",
       "    }\n",
       "</style>\n",
       "<table border=\"1\" class=\"dataframe\">\n",
       "  <thead>\n",
       "    <tr style=\"text-align: right;\">\n",
       "      <th></th>\n",
       "      <th>CÓDIGO DO CLIENTE</th>\n",
       "      <th>TOTAL DE COMPRAS: R$</th>\n",
       "    </tr>\n",
       "  </thead>\n",
       "  <tbody>\n",
       "    <tr>\n",
       "      <th>0</th>\n",
       "      <td>3159.0</td>\n",
       "      <td>3033.739346</td>\n",
       "    </tr>\n",
       "    <tr>\n",
       "      <th>1</th>\n",
       "      <td>2530.0</td>\n",
       "      <td>25.000000</td>\n",
       "    </tr>\n",
       "    <tr>\n",
       "      <th>2</th>\n",
       "      <td>9301.0</td>\n",
       "      <td>1608.585733</td>\n",
       "    </tr>\n",
       "    <tr>\n",
       "      <th>3</th>\n",
       "      <td>2168.0</td>\n",
       "      <td>1018.298846</td>\n",
       "    </tr>\n",
       "    <tr>\n",
       "      <th>4</th>\n",
       "      <td>2793.0</td>\n",
       "      <td>3399.205837</td>\n",
       "    </tr>\n",
       "    <tr>\n",
       "      <th>...</th>\n",
       "      <td>...</td>\n",
       "      <td>...</td>\n",
       "    </tr>\n",
       "    <tr>\n",
       "      <th>7995</th>\n",
       "      <td>8730.0</td>\n",
       "      <td>2815.080335</td>\n",
       "    </tr>\n",
       "    <tr>\n",
       "      <th>7996</th>\n",
       "      <td>8374.0</td>\n",
       "      <td>2836.407819</td>\n",
       "    </tr>\n",
       "    <tr>\n",
       "      <th>7997</th>\n",
       "      <td>2806.0</td>\n",
       "      <td>1796.701781</td>\n",
       "    </tr>\n",
       "    <tr>\n",
       "      <th>7998</th>\n",
       "      <td>5319.0</td>\n",
       "      <td>5170.169260</td>\n",
       "    </tr>\n",
       "    <tr>\n",
       "      <th>7999</th>\n",
       "      <td>2575.0</td>\n",
       "      <td>4841.590951</td>\n",
       "    </tr>\n",
       "  </tbody>\n",
       "</table>\n",
       "<p>8000 rows × 2 columns</p>\n",
       "</div>"
      ],
      "text/plain": [
       "      CÓDIGO DO CLIENTE  TOTAL DE COMPRAS: R$\n",
       "0                3159.0           3033.739346\n",
       "1                2530.0             25.000000\n",
       "2                9301.0           1608.585733\n",
       "3                2168.0           1018.298846\n",
       "4                2793.0           3399.205837\n",
       "...                 ...                   ...\n",
       "7995             8730.0           2815.080335\n",
       "7996             8374.0           2836.407819\n",
       "7997             2806.0           1796.701781\n",
       "7998             5319.0           5170.169260\n",
       "7999             2575.0           4841.590951\n",
       "\n",
       "[8000 rows x 2 columns]"
      ]
     },
     "execution_count": 9,
     "metadata": {},
     "output_type": "execute_result"
    }
   ],
   "source": [
    "#SOMENTE PARA UMA MELHOR VISUALIZAÇÃO DOS DADOS\n",
    "df = pd.DataFrame(dataset,\n",
    "                      columns=['CÓDIGO DO CLIENTE', 'TOTAL DE COMPRAS: R$'])\n",
    "df"
   ]
  },
  {
   "cell_type": "code",
   "execution_count": 10,
   "metadata": {
    "colab": {
     "base_uri": "https://localhost:8080/",
     "height": 291
    },
    "id": "sqpqOnMDi5l4",
    "outputId": "4a2f771e-b8ea-4aa1-b1f8-cc0144d3f4c1"
   },
   "outputs": [
    {
     "data": {
      "text/html": [
       "<div>\n",
       "<style scoped>\n",
       "    .dataframe tbody tr th:only-of-type {\n",
       "        vertical-align: middle;\n",
       "    }\n",
       "\n",
       "    .dataframe tbody tr th {\n",
       "        vertical-align: top;\n",
       "    }\n",
       "\n",
       "    .dataframe thead th {\n",
       "        text-align: right;\n",
       "    }\n",
       "</style>\n",
       "<table border=\"1\" class=\"dataframe\">\n",
       "  <thead>\n",
       "    <tr style=\"text-align: right;\">\n",
       "      <th></th>\n",
       "      <th>CÓDIGO DO CLIENTE</th>\n",
       "      <th>TOTAL DE COMPRAS: R$</th>\n",
       "    </tr>\n",
       "  </thead>\n",
       "  <tbody>\n",
       "    <tr>\n",
       "      <th>count</th>\n",
       "      <td>8000.000000</td>\n",
       "      <td>8000.000000</td>\n",
       "    </tr>\n",
       "    <tr>\n",
       "      <th>mean</th>\n",
       "      <td>5488.371375</td>\n",
       "      <td>1717.032571</td>\n",
       "    </tr>\n",
       "    <tr>\n",
       "      <th>std</th>\n",
       "      <td>2600.940600</td>\n",
       "      <td>1933.329908</td>\n",
       "    </tr>\n",
       "    <tr>\n",
       "      <th>min</th>\n",
       "      <td>1000.000000</td>\n",
       "      <td>25.000000</td>\n",
       "    </tr>\n",
       "    <tr>\n",
       "      <th>25%</th>\n",
       "      <td>3223.750000</td>\n",
       "      <td>25.000000</td>\n",
       "    </tr>\n",
       "    <tr>\n",
       "      <th>50%</th>\n",
       "      <td>5474.500000</td>\n",
       "      <td>1086.201384</td>\n",
       "    </tr>\n",
       "    <tr>\n",
       "      <th>75%</th>\n",
       "      <td>7751.500000</td>\n",
       "      <td>2909.035272</td>\n",
       "    </tr>\n",
       "    <tr>\n",
       "      <th>max</th>\n",
       "      <td>9999.000000</td>\n",
       "      <td>11947.516458</td>\n",
       "    </tr>\n",
       "  </tbody>\n",
       "</table>\n",
       "</div>"
      ],
      "text/plain": [
       "       CÓDIGO DO CLIENTE  TOTAL DE COMPRAS: R$\n",
       "count        8000.000000           8000.000000\n",
       "mean         5488.371375           1717.032571\n",
       "std          2600.940600           1933.329908\n",
       "min          1000.000000             25.000000\n",
       "25%          3223.750000             25.000000\n",
       "50%          5474.500000           1086.201384\n",
       "75%          7751.500000           2909.035272\n",
       "max          9999.000000          11947.516458"
      ]
     },
     "execution_count": 10,
     "metadata": {},
     "output_type": "execute_result"
    }
   ],
   "source": [
    "df.describe()"
   ]
  },
  {
   "cell_type": "markdown",
   "metadata": {
    "id": "Upl4p4FwH7d2"
   },
   "source": [
    "# CURIOSIDADE PYTHON: ESTATÍSTICA DESCRITIVA DO DATASET"
   ]
  },
  {
   "cell_type": "markdown",
   "metadata": {
    "id": "8GS274bfJ7C3"
   },
   "source": [
    "<FONT FACE=Arial COLOR=\"red\">**SOMENTE INFORMATIVO: NÃO É NECESSÁRIO PARA RESOLVER AS QUESTÕES**"
   ]
  },
  {
   "cell_type": "code",
   "execution_count": 11,
   "metadata": {
    "colab": {
     "base_uri": "https://localhost:8080/"
    },
    "id": "WFQREFGZFZwK",
    "outputId": "825f3c16-68cf-497d-fc56-3421f91a7311"
   },
   "outputs": [
    {
     "name": "stdout",
     "output_type": "stream",
     "text": [
      "Help on function PlotarStatistic in module __main__:\n",
      "\n",
      "PlotarStatistic(dataset, yLabel=None)\n",
      "    DOCSTRING: Modularização (Namespace) Python\n",
      "    Melhoria do comando: Describe\n",
      "    Funções desenvolvidas pelo Professor da UVV:\n",
      "    Alessandro Bertolani Oliveira\n",
      "\n"
     ]
    }
   ],
   "source": [
    "# Melhoria do describe: Apenas para perceber o poder computacional da Modularização (Namespace) Python\n",
    "help(PlotarStatistic)"
   ]
  },
  {
   "cell_type": "code",
   "execution_count": 12,
   "metadata": {
    "colab": {
     "base_uri": "https://localhost:8080/",
     "height": 725
    },
    "id": "YzemwyVlHNcg",
    "outputId": "699175ea-1458-4817-c7df-1a84ee051004"
   },
   "outputs": [
    {
     "data": {
      "image/png": "[encoded data removed]",
      "text/plain": [
       "<Figure size 1500x600 with 1 Axes>"
      ]
     },
     "metadata": {},
     "output_type": "display_data"
    },
    {
     "name": "stdout",
     "output_type": "stream",
     "text": [
      "ESTATÍSTICA DESCRITIVA DO DATASET:\n",
      "min         25.00\n",
      "25%         25.00\n",
      "mode        25.00\n",
      "50%       1086.20\n",
      "mean      1717.03\n",
      "std       1933.33\n",
      "75%       2909.04\n",
      "range    11922.52\n",
      "max      11947.52\n",
      "Name: TOTAL DE COMPRAS: R$, dtype: float64\n"
     ]
    }
   ],
   "source": [
    "PlotarStatistic(df['TOTAL DE COMPRAS: R$'], 'TOTAL DE COMPRAS: R$')"
   ]
  },
  {
   "cell_type": "markdown",
   "metadata": {
    "id": "SVyl98N0pEUe"
   },
   "source": [
    "# **QUESTÕES:** (0.50 PONTO POR LETRA)"
   ]
  },
  {
   "cell_type": "markdown",
   "metadata": {
    "id": "IDal4NFyWdcF"
   },
   "source": [
    "A partir do Dataset NumPy (dataset.npy) com o Código e o total de compras (2020) dos 8.000 clientes de um site online. Com isso, faça um Notebook Colab Google (AOP2.IPYNB) com as seguintes questões:\n"
   ]
  },
  {
   "cell_type": "markdown",
   "metadata": {
    "id": "1eej12wOpITF"
   },
   "source": [
    "##a)\t**MANIPULAÇÃO ETL 1**:\n",
    "\n",
    "Exibir na tela a quantidade de clientes, em porcentagem (%), com os seguintes cartões."
   ]
  },
  {
   "cell_type": "markdown",
   "metadata": {
    "id": "7C9hpmkEWn_9"
   },
   "source": [
    "<center>\n",
    "\n",
    "![image.png](data:image/png;base64,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)"
   ]
  },
  {
   "cell_type": "code",
   "execution_count": 13,
   "metadata": {
    "colab": {
     "base_uri": "https://localhost:8080/"
    },
    "id": "XR44XPqHpPAE",
    "outputId": "353661ef-087c-41b5-f273-f98dd3ff4b85"
   },
   "outputs": [
    {
     "data": {
      "text/plain": [
       "0.360375"
      ]
     },
     "execution_count": 13,
     "metadata": {},
     "output_type": "execute_result"
    }
   ],
   "source": [
    "# RESPOSTA USANDO O NDARRAY - NUMPY: dataset\n",
    "\"\"\"\n",
    "\"PEQUENA DICA!!!\"\n",
    "CLIENTES CARTÃO BRONZE:\n",
    "Compras até R$ 100.00\n",
    "\"\"\"\n",
    "clientesBronzes = dataset[:, 1] <= 100.00\n",
    "sum(clientesBronzes) / dataset.shape[0]"
   ]
  },
  {
   "cell_type": "code",
   "execution_count": 14,
   "metadata": {
    "colab": {
     "base_uri": "https://localhost:8080/"
    },
    "id": "3ZQ3j8VSPm67",
    "outputId": "3567cdd6-1b39-4c3a-f629-d89965868bfb"
   },
   "outputs": [
    {
     "name": "stdout",
     "output_type": "stream",
     "text": [
      "Quantidade de Clientes - Cartão Bronze:  36.04 %.\n"
     ]
    }
   ],
   "source": [
    "print(f'Quantidade de Clientes - Cartão Bronze: {sum(clientesBronzes) / dataset.shape[0] * 100: .2f} %.')"
   ]
  },
  {
   "cell_type": "code",
   "execution_count": 15,
   "metadata": {},
   "outputs": [
    {
     "data": {
      "text/plain": [
       "0.056"
      ]
     },
     "execution_count": 15,
     "metadata": {},
     "output_type": "execute_result"
    }
   ],
   "source": [
    "clientesPrata = (dataset[:, 1] > 100) & (dataset[:, 1] <=500)\n",
    "sum(clientesPrata)/dataset.shape[0]"
   ]
  },
  {
   "cell_type": "code",
   "execution_count": 16,
   "metadata": {},
   "outputs": [
    {
     "data": {
      "text/plain": [
       "0.07275"
      ]
     },
     "execution_count": 16,
     "metadata": {},
     "output_type": "execute_result"
    }
   ],
   "source": [
    "clientesOuro = (dataset[:, 1] > 500) & (dataset[:, 1] <=1000)\n",
    "sum(clientesOuro)/dataset.shape[0]"
   ]
  },
  {
   "cell_type": "code",
   "execution_count": 17,
   "metadata": {},
   "outputs": [
    {
     "data": {
      "text/plain": [
       "0.510875"
      ]
     },
     "execution_count": 17,
     "metadata": {},
     "output_type": "execute_result"
    }
   ],
   "source": [
    "clientesDiamante = dataset[:, 1] > 1000\n",
    "sum(clientesDiamante)/dataset.shape[0]"
   ]
  },
  {
   "cell_type": "code",
   "execution_count": 18,
   "metadata": {},
   "outputs": [
    {
     "name": "stdout",
     "output_type": "stream",
     "text": [
      "Quantidade de Clientes - Cartão Bronze:  36.04 %.\n",
      "Quantidade de Clientes - Cartão Prata:  5.60 %.\n",
      "Quantidade de Clientes - Cartão Ouro:  7.27 %.\n",
      "Quantidade de Clientes - Cartão Diamante:  51.09 %.\n"
     ]
    }
   ],
   "source": [
    "print(f'Quantidade de Clientes - Cartão Bronze: {sum(clientesBronzes) / dataset.shape[0] * 100: .2f} %.')\n",
    "print(f'Quantidade de Clientes - Cartão Prata: {sum(clientesPrata)/dataset.shape[0] * 100: .2f} %.')\n",
    "print(f'Quantidade de Clientes - Cartão Ouro: {sum(clientesOuro) / dataset.shape[0] * 100: .2f} %.')\n",
    "print(f'Quantidade de Clientes - Cartão Diamante: {sum(clientesDiamante) / dataset.shape[0] * 100: .2f} %.')"
   ]
  },
  {
   "cell_type": "code",
   "execution_count": 19,
   "metadata": {
    "id": "CvdKr80a31zS"
   },
   "outputs": [],
   "source": [
    "# RESPOSTA USANDO O DATAFRAME - PANDAS: df\n",
    "Clientes_Bronze = df.iloc[:, 1] <= 100\n",
    "\n",
    "Clientes_Prata = (df.iloc[:, 1] > 100) & (df.iloc[:, 1] <= 500)\n",
    "\n",
    "Clientes_Ouro = (df.iloc[:, 1] > 500) & (df.iloc[:, 1] <= 1000)\n",
    "\n",
    "Clientes_Diamante = df.iloc[:, 1] > 1000"
   ]
  },
  {
   "cell_type": "code",
   "execution_count": 20,
   "metadata": {},
   "outputs": [
    {
     "name": "stdout",
     "output_type": "stream",
     "text": [
      "Quantidade de Clientes - Cartão Bronze:  36.04 %.\n",
      "Quantidade de Clientes - Cartão Prata:  5.60 %.\n",
      "Quantidade de Clientes - Cartão Ouro:  7.27 %.\n",
      "Quantidade de Clientes - Cartão Diamante:  51.09 %.\n"
     ]
    }
   ],
   "source": [
    "print(f'Quantidade de Clientes - Cartão Bronze: {sum(Clientes_Bronze) / df.shape[0] * 100: .2f} %.')\n",
    "print(f'Quantidade de Clientes - Cartão Prata: {sum(Clientes_Prata)/df.shape[0] * 100: .2f} %.')\n",
    "print(f'Quantidade de Clientes - Cartão Ouro: {sum(Clientes_Ouro) / df.shape[0] * 100: .2f} %.')\n",
    "print(f'Quantidade de Clientes - Cartão Diamante: {sum(Clientes_Diamante) / df.shape[0] * 100: .2f} %.')"
   ]
  },
  {
   "cell_type": "markdown",
   "metadata": {
    "id": "cRncDjtGpPa9"
   },
   "source": [
    "##b)\t**MANIPULAÇÃO  ETL 2**:\n",
    "\n",
    "Exibir o valor médio de compra por Grupo de Cartão.\n",
    "\n",
    "Faça essa questão de forma modularizada, ou seja, criando uma função: comando **def**"
   ]
  },
  {
   "cell_type": "code",
   "execution_count": 21,
   "metadata": {
    "id": "rBlT9sPEM7Tm"
   },
   "outputs": [],
   "source": [
    "# Desenvolver sua função aqui:\n",
    "def valor_medio_categorias(dados):\n",
    "    # listas para armazenar os valores de cada categoria dentro do dic\n",
    "    categorias = {\n",
    "    'Bronze' : [],\n",
    "    'Prata' : [],\n",
    "    'Ouro' : [],\n",
    "    'Diamante' : []\n",
    "    }\n",
    "    \n",
    "    for valor in dados:\n",
    "        if valor <= 100:\n",
    "            categorias['Bronze'].append(valor)\n",
    "        elif valor > 100 and valor <= 500:\n",
    "            categorias['Prata'].append(valor)\n",
    "        elif valor > 500 and valor <= 1000:\n",
    "            categorias['Ouro'].append(valor)\n",
    "        else:\n",
    "            categorias['Diamante'].append(valor)\n",
    "            \n",
    "    medias = {} # dic para armazenar as medias de cada categoria \n",
    "    for categoria, lista in categorias.items():\n",
    "        if len(lista) > 0:\n",
    "            medias[categoria] = sum(lista)/len(lista)\n",
    "            \n",
    "    \n",
    "    return medias"
   ]
  },
  {
   "cell_type": "code",
   "execution_count": 22,
   "metadata": {
    "id": "XhlEx73PpR_-"
   },
   "outputs": [
    {
     "name": "stdout",
     "output_type": "stream",
     "text": [
      "Valor médio Bronze: R$  26.08\n",
      "Valor médio Prata: R$  297.15\n",
      "Valor médio Ouro: R$  744.78\n",
      "Valor médio Diamante: R$  3203.94\n"
     ]
    }
   ],
   "source": [
    "# RESPOSTA USANDO O NDARRAY - NUMPY: dataset\n",
    "\n",
    "dados_dt = dataset[:, 1] # pegar apenas a coluna de valores de compra\n",
    "resultado = valor_medio_categorias(dados_dt)\n",
    "\n",
    "for categoria, media in resultado.items():\n",
    "    print(f'Valor médio {categoria}: R$ {media: .2f}')"
   ]
  },
  {
   "cell_type": "code",
   "execution_count": 23,
   "metadata": {
    "id": "stvTf24_4HZB"
   },
   "outputs": [
    {
     "name": "stdout",
     "output_type": "stream",
     "text": [
      "Valor médio Bronze: R$  26.08\n",
      "Valor médio Prata: R$  297.15\n",
      "Valor médio Ouro: R$  744.78\n",
      "Valor médio Diamante: R$  3203.94\n"
     ]
    }
   ],
   "source": [
    "# RESPOSTA USANDO O DATAFRAME - PANDAS: df\n",
    "\n",
    "dados_df = df.iloc[:, 1]\n",
    "resultado = valor_medio_categorias(dados_df)\n",
    "for categoria, media in resultado.items():\n",
    "    print(f'Valor médio {categoria}: R$ {media: .2f}')"
   ]
  },
  {
   "cell_type": "markdown",
   "metadata": {
    "id": "jPOOQTRWpUlW"
   },
   "source": [
    "##c)\t**MANIPULAÇÃO  ETL 3**:\n",
    "\n",
    "Exibir na tela uma LISTA: os 5 maiores compradores deste site online."
   ]
  },
  {
   "cell_type": "code",
   "execution_count": 24,
   "metadata": {
    "id": "f2JyJg0SpVHV"
   },
   "outputs": [
    {
     "name": "stdout",
     "output_type": "stream",
     "text": [
      "1° lugar: 6903\n",
      "2° lugar: 3068\n",
      "3° lugar: 2453\n",
      "4° lugar: 5276\n",
      "5° lugar: 4962\n"
     ]
    }
   ],
   "source": [
    "# RESPOSTA USANDO O NDARRAY - NUMPY: dataset\n",
    "# retornar os códidos dos 5 maiores clientes\n",
    "idx = np.argsort(dataset[:, 1])\n",
    "idx_decrescente = idx[::-1]\n",
    "clientes_ordenados = dataset[:, 0][idx_decrescente]\n",
    "top5_clientes_np = clientes_ordenados[:5].tolist()\n",
    "\n",
    "for i, valor in enumerate(top5_clientes_np):\n",
    "    print(f'{i +1}° lugar: {valor:.0f}')"
   ]
  },
  {
   "cell_type": "code",
   "execution_count": 25,
   "metadata": {
    "id": "7xa94xOd4L72"
   },
   "outputs": [
    {
     "name": "stdout",
     "output_type": "stream",
     "text": [
      "1° lugar: 6903\n",
      "2° lugar: 3068\n",
      "3° lugar: 2453\n",
      "4° lugar: 5276\n",
      "5° lugar: 4962\n"
     ]
    }
   ],
   "source": [
    "# RESPOSTA USANDO O DATAFRAME - PANDAS: df\n",
    "df_ordenado = df.sort_values(by= 'TOTAL DE COMPRAS: R$', ascending = False)\n",
    "top_5_compradores = df_ordenado.iloc[0:5, 0].tolist()\n",
    "    \n",
    "for i, valor in enumerate(top_5_compradores):\n",
    "    print(f'{i +1}° lugar: {valor:.0f}')"
   ]
  },
  {
   "cell_type": "markdown",
   "metadata": {
    "id": "rSvkjsENW94V"
   },
   "source": [
    "##d)\t**MANIPULAÇÃO  ETL 4**:\n",
    "\n",
    "Exibir na tela uma LISTA: código e total de compras dos **5 MAIORES compradores POR GRUPO** deste site online."
   ]
  },
  {
   "cell_type": "code",
   "execution_count": 26,
   "metadata": {
    "id": "1STObppwW-Kc"
   },
   "outputs": [],
   "source": [
    "# RESPOSTA USANDO O NDARRAY - NUMPY: datase"
   ]
  },
  {
   "cell_type": "code",
   "execution_count": 27,
   "metadata": {},
   "outputs": [],
   "source": [
    "def top_clientes_categorias(tabela, condicao):\n",
    "    dt_filtrado = tabela[condicao]\n",
    "    idx = np.argsort(dt_filtrado[:, 1])\n",
    "    idx_decrescente = idx[::-1]\n",
    "    clientes_ordenados = dt_filtrado[:, :][idx_decrescente]\n",
    "    classificacao = clientes_ordenados[:5]\n",
    "    \n",
    "    return classificacao"
   ]
  },
  {
   "cell_type": "code",
   "execution_count": 28,
   "metadata": {},
   "outputs": [
    {
     "name": "stdout",
     "output_type": "stream",
     "text": [
      "Top 5 clientes da categoria Bronze:\n",
      "Código cliente: 8048.0 | Valor total: R$ 99.66\n",
      "Código cliente: 6201.0 | Valor total: R$ 99.65\n",
      "Código cliente: 9506.0 | Valor total: R$ 96.59\n",
      "Código cliente: 8944.0 | Valor total: R$ 96.00\n",
      "Código cliente: 2830.0 | Valor total: R$ 95.84\n",
      "Top 5 clientes da categoria Prata:\n",
      "Código cliente: 8585.0 | Valor total: R$ 497.61\n",
      "Código cliente: 8624.0 | Valor total: R$ 497.19\n",
      "Código cliente: 2046.0 | Valor total: R$ 495.32\n",
      "Código cliente: 8902.0 | Valor total: R$ 495.24\n",
      "Código cliente: 6257.0 | Valor total: R$ 494.62\n",
      "Top 5 clientes da categoria Ouro:\n",
      "Código cliente: 3151.0 | Valor total: R$ 997.88\n",
      "Código cliente: 5617.0 | Valor total: R$ 997.28\n",
      "Código cliente: 4210.0 | Valor total: R$ 994.85\n",
      "Código cliente: 6891.0 | Valor total: R$ 994.24\n",
      "Código cliente: 5475.0 | Valor total: R$ 994.04\n",
      "Top 5 clientes da categoria Diamante:\n",
      "Código cliente: 6903.0 | Valor total: R$ 11947.52\n",
      "Código cliente: 3068.0 | Valor total: R$ 11172.35\n",
      "Código cliente: 2453.0 | Valor total: R$ 11163.15\n",
      "Código cliente: 5276.0 | Valor total: R$ 10345.07\n",
      "Código cliente: 4962.0 | Valor total: R$ 10318.00\n"
     ]
    }
   ],
   "source": [
    "dados = dataset\n",
    "condicoes ={\n",
    "        'Bronze' : dataset[:, 1] <= 100,\n",
    "        'Prata' : (dataset[:, 1] > 100) & (dataset[:, 1] <=500),\n",
    "        'Ouro': (dataset[:, 1] > 500) & (dataset[:, 1] <=1000),\n",
    "        'Diamante': dataset[:, 1] > 1000\n",
    "    }\n",
    "\n",
    "for chave, valor in condicoes.items():\n",
    "    classificacao = top_clientes_categorias(dados, valor)\n",
    "    print(f'Top 5 clientes da categoria {chave}:')\n",
    "    for codigo, total in classificacao:\n",
    "        print(f'Código cliente: {codigo} | Valor total: R${total: .2f}')    "
   ]
  },
  {
   "cell_type": "code",
   "execution_count": 29,
   "metadata": {
    "id": "hXmL3j9V4WUW"
   },
   "outputs": [
    {
     "name": "stdout",
     "output_type": "stream",
     "text": [
      "Top 5 clientes da categoria Bronze:\n",
      "Código cliente: 8048.0 | Valor total: R$ 99.66\n",
      "Código cliente: 6201.0 | Valor total: R$ 99.65\n",
      "Código cliente: 9506.0 | Valor total: R$ 96.59\n",
      "Código cliente: 8944.0 | Valor total: R$ 96.00\n",
      "Código cliente: 2830.0 | Valor total: R$ 95.84\n",
      "Top 5 clientes da categoria Prata:\n",
      "Código cliente: 8585.0 | Valor total: R$ 497.61\n",
      "Código cliente: 8624.0 | Valor total: R$ 497.19\n",
      "Código cliente: 2046.0 | Valor total: R$ 495.32\n",
      "Código cliente: 8902.0 | Valor total: R$ 495.24\n",
      "Código cliente: 6257.0 | Valor total: R$ 494.62\n",
      "Top 5 clientes da categoria Ouro:\n",
      "Código cliente: 3151.0 | Valor total: R$ 997.88\n",
      "Código cliente: 5617.0 | Valor total: R$ 997.28\n",
      "Código cliente: 4210.0 | Valor total: R$ 994.85\n",
      "Código cliente: 6891.0 | Valor total: R$ 994.24\n",
      "Código cliente: 5475.0 | Valor total: R$ 994.04\n",
      "Top 5 clientes da categoria Diamante:\n",
      "Código cliente: 6903.0 | Valor total: R$ 11947.52\n",
      "Código cliente: 3068.0 | Valor total: R$ 11172.35\n",
      "Código cliente: 2453.0 | Valor total: R$ 11163.15\n",
      "Código cliente: 5276.0 | Valor total: R$ 10345.07\n",
      "Código cliente: 4962.0 | Valor total: R$ 10318.00\n"
     ]
    }
   ],
   "source": [
    "# RESPOSTA USANDO O DATAFRAME - PANDAS: df\n",
    "def top_clientes_categorias_pd(tabela_pd, condicao_pd):\n",
    "    df_filtrado = tabela_pd[condicao_pd]\n",
    "    df_ordenado = df_filtrado.sort_values(by= 'TOTAL DE COMPRAS: R$', ascending = False)\n",
    "    classificacao_clientes = df_ordenado.iloc[0:5, :]\n",
    "\n",
    "    return classificacao_clientes\n",
    "\n",
    "condicoes_pd = {\n",
    "    'Bronze' : df.iloc[:, 1] <= 100,\n",
    "    'Prata': (df.iloc[:, 1] > 100) & (df.iloc[:, 1] <= 500),\n",
    "    'Ouro' : (df.iloc[:, 1] > 500) & (df.iloc[:, 1] <= 1000),\n",
    "    'Diamante': df.iloc[:, 1] > 1000\n",
    "}\n",
    "\n",
    "tabela_pd= df\n",
    "\n",
    "for chave, valor in condicoes_pd.items():\n",
    "    resultado_top_clientes = top_clientes_categorias_pd(tabela_pd, valor)\n",
    "    resultado_lista = resultado_top_clientes.values.tolist()\n",
    "    print(f'Top 5 clientes da categoria {chave}:')\n",
    "    for codigo, total in resultado_lista:\n",
    "       print(f'Código cliente: {codigo} | Valor total: R${total: .2f}')  "
   ]
  },
  {
   "cell_type": "markdown",
   "metadata": {
    "id": "lCaUoDpOzLmF"
   },
   "source": [
    "**OBSERVAÇÃO IMPORTANTE:**\n",
    "\n",
    "**PARA ENTREGAR A ATIVIDADE:**\n",
    "\n",
    "OBRIGATÓRIO: Faça a impressão do seu **Notebook Colab (.ipynb) no formato PDF (Acrobat): .PDF** e faça o upload no AVA: AOP2.pdf."
   ]
  },
  {
   "cell_type": "markdown",
   "metadata": {
    "id": "ITA9ZUhr8rxg"
   },
   "source": [
    "#POR GENTILEZA: CONVERTER IPYNB para PDF"
   ]
  },
  {
   "cell_type": "markdown",
   "metadata": {
    "id": "QpxI8bpW8syr"
   },
   "source": [
    "PASSO A PASSO:\n",
    "\n",
    "1.   Fazer o download do seu IPYNB.\n",
    "2.   Fazer o upload do seu IPYNB para área temporária: content.\n",
    "3.   Rodar o código abaixo com seu NOME_DO_COLAB.ipynb: Gerar um HTML.\n",
    "4.   Fazer o download do seu HTML e abrir em um Browser qualquer.\n",
    "3.   Imprimir a página HTML em PDF. Pronto (UFA)::: 😅!\n",
    "\n",
    "**MOTIVO:** Seus Gráficos, Códigos Python e Células **NÃO** sairão **\" CORTADOS \"** de uma página para outra."
   ]
  },
  {
   "cell_type": "code",
   "execution_count": null,
   "metadata": {
    "id": "zWWXUuj1JMXy"
   },
   "outputs": [],
   "source": []
  },
  {
   "cell_type": "code",
   "execution_count": 30,
   "metadata": {
    "colab": {
     "base_uri": "https://localhost:8080/"
    },
    "id": "LnRaq5n78_0z",
    "outputId": "f5070717-ec28-4517-bc3d-cbcfeab87a42"
   },
   "outputs": [
    {
     "name": "stderr",
     "output_type": "stream",
     "text": [
      "UsageError: Cell magic `%%shell` not found.\n"
     ]
    }
   ],
   "source": [
    "%%shell\n",
    "jupyter nbconvert --to html /content/AOP2.ipynb"
   ]
  },
  {
   "cell_type": "markdown",
   "metadata": {
    "id": "Erbv98qXzkKv"
   },
   "source": [
    "<FONT FACE=Arial COLOR=\"red\">**NÃO ENVIAR O ARQUIVO COLAB: .ipynb**"
   ]
  },
  {
   "cell_type": "markdown",
   "metadata": {
    "id": "7tL2fZ2fzmXF"
   },
   "source": [
    "**FAÇA AQUI UM LINK PARA O PROFESSOR** (COMPARTILHADO COM TODOS): [Link para o professor!]()"
   ]
  }
 ],
 "metadata": {
  "colab": {
   "collapsed_sections": [
    "Upl4p4FwH7d2",
    "1eej12wOpITF",
    "jPOOQTRWpUlW",
    "rSvkjsENW94V"
   ],
   "provenance": []
  },
  "kernelspec": {
   "display_name": "Python 3 (ipykernel)",
   "language": "python",
   "name": "python3"
  },
  "language_info": {
   "codemirror_mode": {
    "name": "ipython",
    "version": 3
   },
   "file_extension": ".py",
   "mimetype": "text/x-python",
   "name": "python",
   "nbconvert_exporter": "python",
   "pygments_lexer": "ipython3",
   "version": "3.12.7"
  }
 },
 "nbformat": 4,
 "nbformat_minor": 4
}
